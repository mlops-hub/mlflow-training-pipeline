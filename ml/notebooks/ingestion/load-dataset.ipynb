{
 "cells": [
  {
   "cell_type": "code",
   "execution_count": 7,
   "id": "dccce49d",
   "metadata": {},
   "outputs": [],
   "source": [
    "import os\n",
    "import pandas as pd\n",
    "import re"
   ]
  },
  {
   "cell_type": "code",
   "execution_count": 8,
   "id": "8b95559f",
   "metadata": {},
   "outputs": [
    {
     "name": "stdout",
     "output_type": "stream",
     "text": [
      "c:\\Users\\DELL\\OneDrive\\Desktop\\CrunchOps\\mlops-hub\\mlflow-training-pipeline\\notebooks\\ingestion\n",
      "c:\\Users\\DELL\\OneDrive\\Desktop\\CrunchOps\\mlops-hub\\mlflow-training-pipeline\\notebooks\n"
     ]
    }
   ],
   "source": [
    "PROJECT_ROOT = os.path.dirname(os.path.dirname(os.getcwd()))\n",
    "print(os.getcwd())\n",
    "print(os.path.dirname(os.getcwd()))\n",
    "\n",
    "ZOO_DATASET_PATH = os.path.join(PROJECT_ROOT, \"data/raw/zoo.csv\")\n",
    "CLASS_DATASET_PATH = os.path.join(PROJECT_ROOT, \"data/raw/class.csv\")\n"
   ]
  },
  {
   "cell_type": "code",
   "execution_count": 9,
   "id": "3a5b2305",
   "metadata": {},
   "outputs": [],
   "source": [
    "# 1. load datasets\n",
    "zoo_df = pd.read_csv(ZOO_DATASET_PATH)\n",
    "class_df = pd.read_csv(CLASS_DATASET_PATH)"
   ]
  },
  {
   "cell_type": "code",
   "execution_count": 10,
   "id": "83241cce",
   "metadata": {},
   "outputs": [],
   "source": [
    "# 2. split 'class_df' => 'animal_names' column in separate rows and create new column 'animal_name'\n",
    "class_df['animal_name'] = class_df['Animal_Names'].apply(lambda x: re.split(r\",\\s*\", x))\n",
    "\n",
    "class_df = class_df.explode('animal_name')\n",
    "\n",
    "# remove unnecessary columns in 'class_dataset'\n",
    "class_df = class_df.drop(columns=['Animal_Names', 'Number_Of_Animal_Species_In_Class', 'Class_Number'])\n",
    "\n",
    "# rename 'Class_Type' to 'class_name'\n",
    "class_df = class_df.rename(columns={'Class_Type': 'class_name'})"
   ]
  },
  {
   "cell_type": "code",
   "execution_count": 11,
   "id": "656d3f1d",
   "metadata": {},
   "outputs": [],
   "source": [
    "# 3. merge two datasets\n",
    "merged_df = pd.merge(zoo_df, class_df, on='animal_name', how='left')"
   ]
  },
  {
   "cell_type": "code",
   "execution_count": 12,
   "id": "f0e2f7da",
   "metadata": {},
   "outputs": [
    {
     "name": "stdout",
     "output_type": "stream",
     "text": [
      "File saved successfully to: c:\\Users\\DELL\\OneDrive\\Desktop\\CrunchOps\\mlops-hub\\mlflow-training-pipeline\\data/ingestion/merged_df.csv\n"
     ]
    }
   ],
   "source": [
    "# 4. Create directory if it doesn't exist and save the file\n",
    "MERGED_DATASET_PATH = os.path.join(PROJECT_ROOT, \"data/ingestion\")\n",
    "os.makedirs(MERGED_DATASET_PATH, exist_ok=True)  # This creates the directory if it doesn't exist\n",
    "\n",
    "merged_df.to_csv(f\"{MERGED_DATASET_PATH}/merged_df.csv\", index=False)\n",
    "print(f\"File saved successfully to: {MERGED_DATASET_PATH}/merged_df.csv\")\n"
   ]
  },
  {
   "cell_type": "code",
   "execution_count": null,
   "id": "65a78a96",
   "metadata": {},
   "outputs": [],
   "source": []
  }
 ],
 "metadata": {
  "kernelspec": {
   "display_name": "venv",
   "language": "python",
   "name": "python3"
  },
  "language_info": {
   "codemirror_mode": {
    "name": "ipython",
    "version": 3
   },
   "file_extension": ".py",
   "mimetype": "text/x-python",
   "name": "python",
   "nbconvert_exporter": "python",
   "pygments_lexer": "ipython3",
   "version": "3.12.10"
  }
 },
 "nbformat": 4,
 "nbformat_minor": 5
}
